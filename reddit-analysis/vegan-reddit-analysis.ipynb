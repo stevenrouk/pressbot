{
 "cells": [
  {
   "cell_type": "markdown",
   "metadata": {},
   "source": [
    "### Resources\n",
    "\n",
    "vegan subreddits:\n",
    "- https://www.reddit.com/r/vegan/\n",
    "- https://www.reddit.com/r/animalrights/\n",
    "- https://www.reddit.com/r/animalwelfare/\n",
    "- https://www.reddit.com/r/veg/\n",
    "- https://www.reddit.com/r/vegetarian/\n",
    "- https://www.reddit.com/r/vegetarianism/\n",
    "- https://www.reddit.com/r/dietaryvegan/\n",
    "- https://www.reddit.com/r/veganrecipes/\n",
    "- https://www.reddit.com/r/vegproblems/\n",
    "\n",
    "location-based vegan subreddits:\n",
    "- https://www.reddit.com/r/VeganDenver/\n",
    "- https://www.reddit.com/r/vegan/wiki/localvegansubreddits"
   ]
  },
  {
   "cell_type": "markdown",
   "metadata": {},
   "source": [
    "### Next Steps\n",
    "\n",
    "1. Get some Reddit data into a database\n",
    "    - python scrape_reddit.py\n",
    "    - eventually: have a script continuously running, scraping subreddit data as it comes in and updating with new comments and such\n",
    "2. Create a pipeline for:\n",
    "    - reading in the data\n",
    "    - training a model on the data\n",
    "    - saving the model out to disk\n",
    "    - transforming the input data to topics and topic space\n",
    "    - saving the transformed data out to disk"
   ]
  },
  {
   "cell_type": "code",
   "execution_count": null,
   "metadata": {
    "collapsed": true
   },
   "outputs": [],
   "source": []
  }
 ],
 "metadata": {
  "anaconda-cloud": {},
  "kernelspec": {
   "display_name": "Python [conda env:pressbot-env]",
   "language": "python",
   "name": "conda-env-pressbot-env-py"
  },
  "language_info": {
   "codemirror_mode": {
    "name": "ipython",
    "version": 3
   },
   "file_extension": ".py",
   "mimetype": "text/x-python",
   "name": "python",
   "nbconvert_exporter": "python",
   "pygments_lexer": "ipython3",
   "version": "3.5.2"
  }
 },
 "nbformat": 4,
 "nbformat_minor": 1
}
