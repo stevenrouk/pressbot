{
 "cells": [
  {
   "cell_type": "markdown",
   "metadata": {},
   "source": [
    "# Mercy For Animals Text Analytics\n",
    "Steven Rouk 2016"
   ]
  },
  {
   "cell_type": "code",
   "execution_count": 1,
   "metadata": {
    "collapsed": false
   },
   "outputs": [
    {
     "name": "stderr",
     "output_type": "stream",
     "text": [
      "/home/steven/anaconda3/envs/pressbot-env/lib/python3.5/site-packages/nltk/twitter/__init__.py:20: UserWarning: The twython library has not been installed. Some functionality from the twitter package will not be available.\n",
      "  warnings.warn(\"The twython library has not been installed. \"\n"
     ]
    }
   ],
   "source": [
    "%matplotlib inline\n",
    "\n",
    "import bs4 as BeautifulSoup\n",
    "from collections import Counter\n",
    "from functools import wraps\n",
    "import matplotlib.pyplot as plt\n",
    "from nltk.sentiment import SentimentIntensityAnalyzer\n",
    "import numpy as np\n",
    "import pandas as pd\n",
    "from sklearn.feature_extraction.text import ENGLISH_STOP_WORDS, CountVectorizer, TfidfVectorizer\n",
    "import string\n",
    "\n",
    "from utils import Document, DocumentCorpus, VIOLENT_TERMS\n",
    "import utils"
   ]
  },
  {
   "cell_type": "markdown",
   "metadata": {},
   "source": [
    "### Get Sample News Article Data\n",
    "\n",
    "In this example, we have 23 news articles that all relate to the August 2015 Mercy For Animals investigation into McDonald's and Tyson.\n",
    "\n",
    "Immediately, we can look at how similar news articles are to each other (on a scale from 0 to 1), and take a look at small segments of text from similar articles."
   ]
  },
  {
   "cell_type": "code",
   "execution_count": 2,
   "metadata": {
    "collapsed": false
   },
   "outputs": [],
   "source": [
    "with open('pressbotcity.html', 'r') as f:\n",
    "    html = f.read()\n",
    "soup = BeautifulSoup.BeautifulSoup(html, 'html.parser')\n",
    "p_tags = soup.findAll('p')\n",
    "p_tags_text = [tag.text for tag in p_tags]\n",
    "article_text = [text for text in p_tags_text]\n",
    "article_text = [text for text in article_text if 'Article ID' not in text and len(text) > 200]\n",
    "\n",
    "mfa_documents = DocumentCorpus(article_text)"
   ]
  },
  {
   "cell_type": "code",
   "execution_count": 3,
   "metadata": {
    "collapsed": false
   },
   "outputs": [
    {
     "data": {
      "text/plain": [
       "[('d5', 'd14', 0.53143024130145322),\n",
       " ('d14', 'd5', 0.53143024130145322),\n",
       " ('d14', 'd21', 0.46014698115195574),\n",
       " ('d21', 'd14', 0.46014698115195574),\n",
       " ('d17', 'd21', 0.4340570472166323),\n",
       " ('d21', 'd17', 0.4340570472166323),\n",
       " ('d5', 'd12', 0.41282048843901631),\n",
       " ('d12', 'd5', 0.41282048843901631),\n",
       " ('d5', 'd10', 0.39829265842884531),\n",
       " ('d10', 'd5', 0.39829265842884531)]"
      ]
     },
     "execution_count": 3,
     "metadata": {},
     "output_type": "execute_result"
    }
   ],
   "source": [
    "#filter(lambda x: x[2] < 0.99, mfa_documents.get_sorted_pairwise_similarity())\n",
    "[x for x in mfa_documents.get_sorted_pairwise_similarity() if x[2] < 0.99][:10]"
   ]
  },
  {
   "cell_type": "code",
   "execution_count": 4,
   "metadata": {
    "collapsed": false
   },
   "outputs": [
    {
     "name": "stdout",
     "output_type": "stream",
     "text": [
      "Above: Undercover video from www.McDonaldsCruelty.com. After being caught on hidden camera allegedly beating chickens with spiked clubs, Thomas and Susan Blassingame of T & S Farm in Dukedom, Tennessee, pled guilty to one count each of animal cruelty in the Weakley County, Tennessee General Sessions Court. These convictions come after an undercover investigation by Mercy For Animals at T & S Farm documented the Blassingames reportedly beating and stabbing chickens, standing on the birds' heads w \n",
      "\n",
      " McDonald's is taking a page out of Chipotle's playbook and cutting ties with one of its suppliers after evidence surfaced that the vendor was engaging in cruel and inhumane practices. Earlier this year, Chipotle dropped a pork supplier that didn't meet its standards for responsibly raised meat, causing a multi-month shortage of its popular carnitas. According to USA Today, McDonald's is no longer working with T&S Farms in Dukedom, Tenn. — which is a contractor of Tyson Foods — after video footag\n"
     ]
    }
   ],
   "source": [
    "print(mfa_documents[5][:500], '\\n\\n', mfa_documents[14][:500])"
   ]
  },
  {
   "cell_type": "code",
   "execution_count": 5,
   "metadata": {
    "collapsed": false
   },
   "outputs": [
    {
     "name": "stdout",
     "output_type": "stream",
     "text": [
      "            d1  d2  d3  d4  d5  d6  d7  d8  d9  d10 ...   d14  d15  d16  d17  \\\n",
      "advertise    0   0   0   0   0   0   0   1   0    0 ...     0    0    0    0   \n",
      "advocacy     0   0   0   0   0   0   0   0   0    0 ...     0    0    0    0   \n",
      "advocates    0   0   0   0   0   0   0   0   0    0 ...     0    0    0    0   \n",
      "affairs      0   0   0   0   0   0   0   0   1    0 ...     0    0    0    0   \n",
      "affidavits   0   0   0   0   0   0   0   0   2    0 ...     0    0    0    0   \n",
      "\n",
      "            d18  d19  d20  d21  d22  d23  \n",
      "advertise     0    0    0    0    0    0  \n",
      "advocacy      0    0    1    0    0    0  \n",
      "advocates     1    0    0    0    0    0  \n",
      "affairs       0    0    0    0    0    0  \n",
      "affidavits    0    0    0    0    0    0  \n",
      "\n",
      "[5 rows x 23 columns]\n"
     ]
    }
   ],
   "source": [
    "print(mfa_documents.get_term_freq_matrix()[100:105])"
   ]
  },
  {
   "cell_type": "code",
   "execution_count": 6,
   "metadata": {
    "collapsed": false
   },
   "outputs": [
    {
     "name": "stdout",
     "output_type": "stream",
     "text": [
      "             d1   d2   d3   d4   d5   d6   d7        d8        d9  d10 ...   \\\n",
      "advertise   0.0  0.0  0.0  0.0  0.0  0.0  0.0  0.060822  0.000000  0.0 ...    \n",
      "advocacy    0.0  0.0  0.0  0.0  0.0  0.0  0.0  0.000000  0.000000  0.0 ...    \n",
      "advocates   0.0  0.0  0.0  0.0  0.0  0.0  0.0  0.000000  0.000000  0.0 ...    \n",
      "affairs     0.0  0.0  0.0  0.0  0.0  0.0  0.0  0.000000  0.034725  0.0 ...    \n",
      "affidavits  0.0  0.0  0.0  0.0  0.0  0.0  0.0  0.000000  0.069449  0.0 ...    \n",
      "\n",
      "            d14  d15  d16  d17       d18  d19       d20  d21  d22  d23  \n",
      "advertise   0.0  0.0  0.0  0.0  0.000000  0.0  0.000000  0.0  0.0  0.0  \n",
      "advocacy    0.0  0.0  0.0  0.0  0.000000  0.0  0.112714  0.0  0.0  0.0  \n",
      "advocates   0.0  0.0  0.0  0.0  0.061506  0.0  0.000000  0.0  0.0  0.0  \n",
      "affairs     0.0  0.0  0.0  0.0  0.000000  0.0  0.000000  0.0  0.0  0.0  \n",
      "affidavits  0.0  0.0  0.0  0.0  0.000000  0.0  0.000000  0.0  0.0  0.0  \n",
      "\n",
      "[5 rows x 23 columns]\n"
     ]
    }
   ],
   "source": [
    "print(mfa_documents.get_tfidf_matrix()[100:105])"
   ]
  },
  {
   "cell_type": "code",
   "execution_count": 7,
   "metadata": {
    "collapsed": false
   },
   "outputs": [
    {
     "name": "stdout",
     "output_type": "stream",
     "text": [
      "[('coach', 9), ('chicken', 5), ('mcdonalds', 5), ('birds', 5), ('animals', 4), ('chickens', 4), ('s', 3), ('thomas', 3), ('animal', 3), ('farm', 3)] \n",
      "\n",
      " [('farm', 6), ('mcdonalds', 5), ('video', 3), ('birds', 3), ('workers', 2), ('year', 2), ('suppliers', 2), ('—', 2), ('footage', 2), ('chickens', 2)]\n"
     ]
    }
   ],
   "source": [
    "print(mfa_documents[5].word_counts.most_common(10), '\\n\\n', mfa_documents[14].word_counts.most_common(10))"
   ]
  },
  {
   "cell_type": "code",
   "execution_count": 8,
   "metadata": {
    "collapsed": false,
    "scrolled": false
   },
   "outputs": [
    {
     "data": {
      "image/png": "[encoded data removed]",
      "text/plain": [
       "<matplotlib.figure.Figure at 0x7fe828cdacf8>"
      ]
     },
     "metadata": {},
     "output_type": "display_data"
    }
   ],
   "source": [
    "mfa_documents.plot_similarity_matrix()"
   ]
  },
  {
   "cell_type": "code",
   "execution_count": 9,
   "metadata": {
    "collapsed": false
   },
   "outputs": [
    {
     "data": {
      "text/plain": [
       "[('mcdonald', 158),\n",
       " ('animal', 140),\n",
       " ('farm', 139),\n",
       " ('tyson', 123),\n",
       " ('animals', 115),\n",
       " ('video', 112),\n",
       " ('said', 102),\n",
       " ('chicken', 101),\n",
       " ('mercy', 96),\n",
       " ('chickens', 94)]"
      ]
     },
     "execution_count": 9,
     "metadata": {},
     "output_type": "execute_result"
    }
   ],
   "source": [
    "mfa_documents.get_word_counts()[:10]"
   ]
  },
  {
   "cell_type": "code",
   "execution_count": 10,
   "metadata": {
    "collapsed": false
   },
   "outputs": [
    {
     "data": {
      "text/plain": [
       "23"
      ]
     },
     "execution_count": 10,
     "metadata": {},
     "output_type": "execute_result"
    }
   ],
   "source": [
    "len(mfa_documents)"
   ]
  },
  {
   "cell_type": "markdown",
   "metadata": {},
   "source": [
    "### Sentiment Analysis\n",
    "\n",
    "Now, let's take a look at the most negative words for each article."
   ]
  },
  {
   "cell_type": "code",
   "execution_count": 11,
   "metadata": {
    "collapsed": false,
    "scrolled": false
   },
   "outputs": [
    {
     "name": "stdout",
     "output_type": "stream",
     "text": [
      "DOCUMENT 0\n",
      "['abuse', 'cruelty', 'unacceptable', 'severed']\n",
      "-------\n",
      "DOCUMENT 1\n",
      "['abusive', 'cruelty', 'sick', 'unacceptable', 'stabbed', 'beaten', 'cut', 'protests']\n",
      "-------\n",
      "DOCUMENT 2\n",
      "['abuse', 'death', 'stabbed', 'crushed', 'severed']\n",
      "-------\n",
      "DOCUMENT 3\n",
      "['abuse', 'broken', 'unacceptable', 'starve', 'condemned', 'injured', 'accused', 'delayed', 'seriously', 'demand']\n",
      "-------\n",
      "DOCUMENT 4\n",
      "['abuse', 'death', 'ban', 'died', 'horrible', 'violated', 'criminal', 'failure', 'violate', 'unacceptable', 'abusing', 'waste', 'prosecute', 'cut', 'cancel']\n",
      "-------\n",
      "DOCUMENT 5\n",
      "['horrific', 'abuse', 'violence', 'die', 'cruelty', 'cruel', 'pathetic', 'abuses', 'illegal', 'tortured', 'suffer', 'criminal', 'suffering', 'beating', 'sadly']\n",
      "-------\n",
      "DOCUMENT 6\n",
      "['death', 'cruelty', 'assault', 'pathetic', 'punishment', 'punished', 'unacceptable', 'worry', 'weapons', 'guilty', 'losing', 'severed', 'charges', 'demanding', 'tough']\n",
      "-------\n",
      "DOCUMENT 7\n",
      "['abuse', 'violence', 'torturing', 'cruelty', 'pathetic', 'tortured', 'unacceptable', 'guilty', 'stop']\n",
      "-------\n",
      "DOCUMENT 8\n",
      "['kill', 'horrific', 'abuse', 'worst', 'die', 'cruelty', 'death', 'hate', 'tortured', 'fired', 'criminal', 'stressful', 'violation', 'terrible', 'broken']\n",
      "-------\n",
      "DOCUMENT 9\n",
      "['death', 'cruelty', 'beating', 'waste', 'cuts', 'accused']\n",
      "-------\n",
      "DOCUMENT 10\n",
      "['brutal', 'death', 'cruelty', 'cruel', 'poor', 'unacceptable', 'harsh', 'crushed', 'condemn', 'cut', 'expose', 'demand', 'preventing']\n",
      "-------\n",
      "DOCUMENT 11\n",
      "['abuse', 'abusive', 'brutal', 'cruelty', 'cruel', 'poor', 'harsh', 'shake', 'expose']\n",
      "-------\n",
      "DOCUMENT 12\n",
      "['abuse', 'cruelty', 'criminal', 'sick', 'violation', 'abusing', 'unacceptable', 'stabbed', 'beaten', 'prosecute', 'accused', 'cutting']\n",
      "-------\n",
      "DOCUMENT 13\n",
      "['abuse', 'death', 'cruelty', 'abusers', 'died', 'outraged', 'violations', 'criminal', 'failure', 'violation', 'waste', 'prosecute', 'severed', 'cuts', 'accused']\n",
      "-------\n",
      "DOCUMENT 14\n",
      "['death', 'cruelty', 'cruel', 'failure', 'trap', 'cut', 'shortage', 'cutting', 'domination']\n",
      "-------\n",
      "DOCUMENT 15\n",
      "['abuse', 'cruelty', 'abuses', 'tortured', 'beating', 'guilty', 'severed', 'pay', 'exposed', 'sentenced']\n",
      "-------\n",
      "DOCUMENT 16\n",
      "['worst', 'death', 'cruelty', 'horrifying', 'abuses', 'tortured', 'failing', 'abusing', 'severely', 'cuts', 'accused', 'charges', 'cut', 'cancel', 'charged']\n",
      "-------\n",
      "DOCUMENT 17\n",
      "['die', 'torture', 'cruelty', 'cruel', 'bad', 'tortures', 'failure', 'abused', 'broken', 'beating', 'painful', 'exposing', 'cut', 'protesters', 'stopped']\n",
      "-------\n",
      "DOCUMENT 18\n",
      "['kill', 'killed', 'dead', 'cruelty', 'horrified', 'horrible', 'violating', 'damage', 'attack', 'unsuccessfully', 'lost', 'critical', 'lack', 'accused', 'exposing']\n",
      "-------\n",
      "DOCUMENT 19\n",
      "['horrific', 'death', 'poor', 'forced', 'beaten']\n",
      "-------\n",
      "DOCUMENT 20\n",
      "['abuse', 'death', 'cruelty', 'tortured', 'abusing', 'unacceptable', 'guilty', 'cuts', 'accused', 'charges', 'cancel']\n",
      "-------\n",
      "DOCUMENT 21\n",
      "['killed', 'cruelty', 'cruel', 'abused', 'unacceptable', 'painful', 'exposing', 'cut', 'protest']\n",
      "-------\n",
      "DOCUMENT 22\n",
      "['killed', 'cruelty', 'cruel', 'abused', 'unacceptable', 'painful', 'exposing', 'cut', 'protest']\n",
      "-------\n"
     ]
    }
   ],
   "source": [
    "for index, doc in enumerate(mfa_documents):\n",
    "    print(\"DOCUMENT {}\".format(index))\n",
    "    print([x[0] for x in mfa_documents[index].get_negative_words(15)])\n",
    "    print('-------')"
   ]
  },
  {
   "cell_type": "markdown",
   "metadata": {},
   "source": [
    "### Prevalence of Violent Words"
   ]
  },
  {
   "cell_type": "code",
   "execution_count": 13,
   "metadata": {
    "collapsed": false
   },
   "outputs": [
    {
     "data": {
      "text/plain": [
       "[('cruelty', 46),\n",
       " ('ties', 25),\n",
       " ('abuse', 21),\n",
       " ('weakley', 17),\n",
       " ('reserved', 15),\n",
       " ('death', 13),\n",
       " ('meat', 10),\n",
       " ('chains', 9),\n",
       " ('slaughter', 9),\n",
       " ('stunning', 8),\n",
       " ('abusing', 8),\n",
       " ('slaughterhouse', 8),\n",
       " ('cruel', 8),\n",
       " ('abused', 7),\n",
       " ('beating', 7)]"
      ]
     },
     "execution_count": 13,
     "metadata": {},
     "output_type": "execute_result"
    }
   ],
   "source": [
    "violent_word_count = Counter([word for word in mfa_documents.all_words if word in VIOLENT_TERMS])\n",
    "violent_word_count.most_common(15)"
   ]
  },
  {
   "cell_type": "code",
   "execution_count": null,
   "metadata": {
    "collapsed": true
   },
   "outputs": [],
   "source": []
  }
 ],
 "metadata": {
  "anaconda-cloud": {},
  "kernelspec": {
   "display_name": "Python [conda env:pressbot-env]",
   "language": "python",
   "name": "conda-env-pressbot-env-py"
  },
  "language_info": {
   "codemirror_mode": {
    "name": "ipython",
    "version": 3
   },
   "file_extension": ".py",
   "mimetype": "text/x-python",
   "name": "python",
   "nbconvert_exporter": "python",
   "pygments_lexer": "ipython3",
   "version": "3.5.2"
  }
 },
 "nbformat": 4,
 "nbformat_minor": 0
}
