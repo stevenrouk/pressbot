{
 "cells": [
  {
   "cell_type": "code",
   "execution_count": 1,
   "metadata": {
    "collapsed": true
   },
   "outputs": [],
   "source": [
    "%matplotlib inline\n",
    "\n",
    "# imports\n",
    "import bs4 as BeautifulSoup\n",
    "import csv\n",
    "import matplotlib.pyplot as plt\n",
    "import nltk\n",
    "import numpy as np\n",
    "import seaborn as sns\n",
    "from sklearn.feature_extraction.text import CountVectorizer, TfidfVectorizer"
   ]
  },
  {
   "cell_type": "code",
   "execution_count": 2,
   "metadata": {
    "collapsed": false
   },
   "outputs": [
    {
     "name": "stdout",
     "output_type": "stream",
     "text": [
      "\n",
      "\n",
      "<html>\n",
      "    <head>\n",
      "        <title>press + analytics</title>\n",
      "        <link rel=\"stylesheet\" href=\"//\n"
     ]
    }
   ],
   "source": [
    "# let's get the data from the Heroku web app: https://pressbotcity.herokuapp.com/\n",
    "with open('pressbotcity.html', 'r') as f:\n",
    "    html = f.read()\n",
    "\n",
    "print(html[:100])"
   ]
  },
  {
   "cell_type": "code",
   "execution_count": 4,
   "metadata": {
    "collapsed": false,
    "scrolled": false
   },
   "outputs": [
    {
     "name": "stdout",
     "output_type": "stream",
     "text": [
      "Watch Live: Obama Campaigns With Clinton by Reuters McDonald's Corp and Tyson Foods both severed ties on Thursday with a Tennessee farm where workers were seen stabbing, clubbing and stomping on chickens in an undercover video shot by animal rights activists. The videotape, which was unveiled by Mercy For Animals at a news conference in Los Angeles, depicts gruesome animal cruelty toward the birds at what the group said was T&S Farm in Dukedom, Tennessee, which was under contract to Tyson Foods. Tyson supplies chicken to McDonald's, the world's biggest fast-food chain, for its McNuggets. Representatives for T&S Farm could not be reached for comment. \"Animal well-being is a priority at our company and we will not tolerate the unacceptable animal treatment shown in this video,\" Tyson spokesman Worth Sparkman said. \"Members of our animal well-being team are investigating, however, based on what we currently know, we are terminating the farmer's contract to grow chickens for us,\" said Sparkman, adding there were currently no chickens on the farm. McDonald's said in a statement it supported Tyson's decision and \"we find the behavior depicted in this video to be completely unacceptable.\" The company said it was working with Tyson to investigate the situation further. \"We're committed to working with animal welfare and industry experts to inform our policies that promote better management, strong employee education and verification of practices,\" McDonald's said. The Weakley County Sheriff's Office said it had opened an investigation into the farm. On the videotape, which Mercy For Animals activists said documented three weeks of animal abuse at the farm, workers can be seen stepping on birds' necks, stuffing them in cramped cages and bludgeoning them with clubs. \"You don't work for PETA, do you?\" a worker is heard asking the Mercy For Animals representative before repeatedly hitting one of the birds with a spiked stick. \"Remember that for five years in a row, Tyson awarded grower of the year to this facility. So it's too little, too late,\" Mercy For Animals President Nathan Runkle told the news conference. He said the farm typically housed over 120,000 chickens. Sparkman said T&S Farm had not received an award since 2008 and that it was recognized for a regional honor. McDonald's has said it would phase out its use of chickens raised with certain kinds of antibiotics at its 14,000 U.S. restaurants as part of a major restructuring plan to reverse a long sales slump.\n"
     ]
    }
   ],
   "source": [
    "# Grab all the 'p' HTML tags using BeautifulSoup,\n",
    "# then get just the text (no tags) from them.\n",
    "soup = BeautifulSoup.BeautifulSoup(html, 'html.parser')\n",
    "p_tags = soup.findAll('p')\n",
    "p_tags_text = [tag.text for tag in p_tags]\n",
    "\n",
    "# Some processing\n",
    "article_text = [text for text in p_tags_text]\n",
    "article_text = [text for text in article_text if 'Article ID' not in text and len(text) > 200]\n",
    "\n",
    "print(article_text[0])"
   ]
  },
  {
   "cell_type": "code",
   "execution_count": 5,
   "metadata": {
    "collapsed": false,
    "scrolled": true
   },
   "outputs": [
    {
     "name": "stdout",
     "output_type": "stream",
     "text": [
      "  (0, 2116)\t0.0476682190534\n",
      "  (0, 1102)\t0.0330360749847\n",
      "  (0, 1293)\t0.0646726871092\n",
      "  (0, 330)\t0.0646726871092\n",
      "  (0, 2156)\t0.129905577181\n",
      "  (0, 394)\t0.0571480901241\n",
      "  (0, 312)\t0.0605180744274\n",
      "  (0, 1619)\t0.0646726871092\n",
      "  (0, 1167)\t0.0927896979868\n",
      "  (0, 489)\t0.0518093036003\n",
      "  (0, 147)\t0.148463516779\n",
      "  (0, 2028)\t0.129905577181\n",
      "  (0, 782)\t0.0403453829516\n",
      "  (0, 280)\t0.0367601096301\n",
      "  (0, 1699)\t0.04142398761\n",
      "  (0, 1967)\t0.0238967261212\n",
      "  (0, 1312)\t0.111347637584\n",
      "  (0, 1966)\t0.04142398761\n",
      "  (0, 1927)\t0.038695516702\n",
      "  (0, 735)\t0.148463516779\n",
      "  (0, 2137)\t0.0348048355445\n",
      "  (0, 2170)\t0.0660721499694\n",
      "  (0, 2132)\t0.0521650731649\n",
      "  (0, 1675)\t0.0735202192601\n",
      "  (0, 1806)\t0.0476682190534\n",
      "  :\t:\n",
      "  (22, 1492)\t0.0911639542884\n",
      "  (22, 1198)\t0.0911639542884\n",
      "  (22, 1714)\t0.0455819771442\n",
      "  (22, 1354)\t0.0455819771442\n",
      "  (22, 1745)\t0.0455819771442\n",
      "  (22, 1244)\t0.0455819771442\n",
      "  (22, 560)\t0.0455819771442\n",
      "  (22, 122)\t0.0455819771442\n",
      "  (22, 1584)\t0.0455819771442\n",
      "  (22, 881)\t0.136745931433\n",
      "  (22, 2181)\t0.0419386388237\n",
      "  (22, 1477)\t0.136745931433\n",
      "  (22, 1042)\t0.0455819771442\n",
      "  (22, 773)\t0.100558114348\n",
      "  (22, 204)\t0.100558114348\n",
      "  (22, 952)\t0.100558114348\n",
      "  (22, 235)\t0.100558114348\n",
      "  (22, 1489)\t0.0502790571741\n",
      "  (22, 576)\t0.0502790571741\n",
      "  (22, 959)\t0.0502790571741\n",
      "  (22, 1736)\t0.0502790571741\n",
      "  (22, 504)\t0.0502790571741\n",
      "  (22, 515)\t0.0502790571741\n",
      "  (22, 1464)\t0.0502790571741\n",
      "  (22, 1434)\t0.0502790571741\n"
     ]
    }
   ],
   "source": [
    "# Get the tfidf matrix for these documents,\n",
    "# in sparse matrix form\n",
    "tfidf = TfidfVectorizer().fit_transform(article_text)\n",
    "\n",
    "print(tfidf)"
   ]
  },
  {
   "cell_type": "code",
   "execution_count": 6,
   "metadata": {
    "collapsed": false
   },
   "outputs": [
    {
     "data": {
      "text/plain": [
       "<matplotlib.axes._subplots.AxesSubplot at 0x7f500ac59710>"
      ]
     },
     "execution_count": 6,
     "metadata": {},
     "output_type": "execute_result"
    },
    {
     "data": {
      "image/png": "[encoded data removed]",
      "text/plain": [
       "<matplotlib.figure.Figure at 0x7f500a97b860>"
      ]
     },
     "metadata": {},
     "output_type": "display_data"
    }
   ],
   "source": [
    "sns.heatmap((tfidf * tfidf.T).todense())"
   ]
  }
 ],
 "metadata": {
  "kernelspec": {
   "display_name": "Python [conda env:pressbot-env]",
   "language": "python",
   "name": "conda-env-pressbot-env-py"
  },
  "language_info": {
   "codemirror_mode": {
    "name": "ipython",
    "version": 3
   },
   "file_extension": ".py",
   "mimetype": "text/x-python",
   "name": "python",
   "nbconvert_exporter": "python",
   "pygments_lexer": "ipython3",
   "version": "3.5.2"
  }
 },
 "nbformat": 4,
 "nbformat_minor": 0
}
