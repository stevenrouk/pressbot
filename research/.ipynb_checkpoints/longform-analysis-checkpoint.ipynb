{
 "cells": [
  {
   "cell_type": "code",
   "execution_count": 15,
   "metadata": {
    "collapsed": true
   },
   "outputs": [],
   "source": [
    "%matplotlib inline\n",
    "\n",
    "# imports\n",
    "import bs4 as BeautifulSoup\n",
    "import csv\n",
    "import matplotlib.pyplot as plt\n",
    "import nltk\n",
    "import numpy as np\n",
    "import seaborn as sns\n",
    "from sklearn.feature_extraction.text import CountVectorizer, TfidfVectorizer"
   ]
  },
  {
   "cell_type": "code",
   "execution_count": 8,
   "metadata": {
    "collapsed": false
   },
   "outputs": [
    {
     "name": "stdout",
     "output_type": "stream",
     "text": [
      "\n",
      "\n",
      "<html>\n",
      "    <head>\n",
      "        <title>press + analytics</title>\n",
      "        <link rel=\"stylesheet\" href=\"//\n"
     ]
    }
   ],
   "source": [
    "# let's get the data from the Heroku web app: https://pressbotcity.herokuapp.com/\n",
    "with open('pressbotcity.html', 'r') as f:\n",
    "    html = f.read()\n",
    "\n",
    "print html[:100]"
   ]
  },
  {
   "cell_type": "code",
   "execution_count": 7,
   "metadata": {
    "collapsed": false,
    "scrolled": false
   },
   "outputs": [
    {
     "name": "stdout",
     "output_type": "stream",
     "text": [
      "Watch Live: Obama Campaigns With Clinton by Reuters McDonald's Corp and Tyson Foods both severed ties on Thursday with a Tennessee farm where workers were seen stabbing, clubbing and stomping on chickens in an undercover video shot by animal rights activists. The videotape, which was unveiled by Mercy For Animals at a news conference in Los Angeles, depicts gruesome animal cruelty toward the birds at what the group said was T&S Farm in Dukedom, Tennessee, which was under contract to Tyson Foods. Tyson supplies chicken to McDonald's, the world's biggest fast-food chain, for its McNuggets. Representatives for T&S Farm could not be reached for comment. \"Animal well-being is a priority at our company and we will not tolerate the unacceptable animal treatment shown in this video,\" Tyson spokesman Worth Sparkman said. \"Members of our animal well-being team are investigating, however, based on what we currently know, we are terminating the farmer's contract to grow chickens for us,\" said Sparkman, adding there were currently no chickens on the farm. McDonald's said in a statement it supported Tyson's decision and \"we find the behavior depicted in this video to be completely unacceptable.\" The company said it was working with Tyson to investigate the situation further. \"We're committed to working with animal welfare and industry experts to inform our policies that promote better management, strong employee education and verification of practices,\" McDonald's said. The Weakley County Sheriff's Office said it had opened an investigation into the farm. On the videotape, which Mercy For Animals activists said documented three weeks of animal abuse at the farm, workers can be seen stepping on birds' necks, stuffing them in cramped cages and bludgeoning them with clubs. \"You don't work for PETA, do you?\" a worker is heard asking the Mercy For Animals representative before repeatedly hitting one of the birds with a spiked stick. \"Remember that for five years in a row, Tyson awarded grower of the year to this facility. So it's too little, too late,\" Mercy For Animals President Nathan Runkle told the news conference. He said the farm typically housed over 120,000 chickens. Sparkman said T&S Farm had not received an award since 2008 and that it was recognized for a regional honor. McDonald's has said it would phase out its use of chickens raised with certain kinds of antibiotics at its 14,000 U.S. restaurants as part of a major restructuring plan to reverse a long sales slump.\n"
     ]
    }
   ],
   "source": [
    "# Grab all the 'p' HTML tags using BeautifulSoup,\n",
    "# then get just the text (no tags) from them.\n",
    "soup = BeautifulSoup.BeautifulSoup(html, 'html.parser')\n",
    "p_tags = soup.findAll('p')\n",
    "p_tags_text = [tag.text for tag in p_tags]\n",
    "\n",
    "# Some processing\n",
    "article_text = [text.encode('utf-8', 'ignore') for text in p_tags_text]\n",
    "article_text = [text for text in article_text if 'Article ID' not in text and len(text) > 200]\n",
    "\n",
    "print article_text[0]"
   ]
  },
  {
   "cell_type": "code",
   "execution_count": 14,
   "metadata": {
    "collapsed": false,
    "scrolled": true
   },
   "outputs": [
    {
     "name": "stdout",
     "output_type": "stream",
     "text": [
      "  (0, 1756)\t0.0512561017186\n",
      "  (0, 1652)\t0.0512561017186\n",
      "  (0, 1112)\t0.047095811755\n",
      "  (0, 1625)\t0.0641791427011\n",
      "  (0, 1396)\t0.0566196483311\n",
      "  (0, 1615)\t0.0641791427011\n",
      "  (0, 1134)\t0.0512561017186\n",
      "  (0, 1358)\t0.0361371129785\n",
      "  (0, 182)\t0.0266132764024\n",
      "  (0, 1614)\t0.0512561017186\n",
      "  (0, 13)\t0.0566196483311\n",
      "  (0, 157)\t0.0566196483311\n",
      "  (0, 1044)\t0.0641791427011\n",
      "  (0, 359)\t0.0566196483311\n",
      "  (0, 1527)\t0.047095811755\n",
      "  (0, 2066)\t0.0307735663661\n",
      "  (0, 1340)\t0.027899579991\n",
      "  (0, 1385)\t0.0566196483311\n",
      "  (0, 2179)\t0.0383330607361\n",
      "  (0, 882)\t0.02124972979\n",
      "  (0, 919)\t0.0641791427011\n",
      "  (0, 1563)\t0.0641791427011\n",
      "  (0, 1552)\t0.0566196483311\n",
      "  (0, 25)\t0.0641791427011\n",
      "  (0, 1739)\t0.0512561017186\n",
      "  :\t:\n",
      "  (21, 523)\t0.0375115226755\n",
      "  (21, 192)\t0.0493415100735\n",
      "  (21, 150)\t0.110230260791\n",
      "  (21, 785)\t0.251954881807\n",
      "  (21, 1188)\t0.0944830806777\n",
      "  (21, 2113)\t0.0214619182861\n",
      "  (21, 1940)\t0.220460521581\n",
      "  (21, 1632)\t0.0196071676093\n",
      "  (21, 149)\t0.125977440904\n",
      "  (21, 2086)\t0.0629887204518\n",
      "  (21, 2038)\t0.0392143352186\n",
      "  (21, 144)\t0.0493415100735\n",
      "  (21, 961)\t0.157471801129\n",
      "  (21, 373)\t0.0493415100735\n",
      "  (21, 735)\t0.0944830806777\n",
      "  (21, 1927)\t0.0164471700245\n",
      "  (21, 1312)\t0.110230260791\n",
      "  (21, 1967)\t0.020507251447\n",
      "  (21, 782)\t0.0515391872686\n",
      "  (21, 2028)\t0.0629887204518\n",
      "  (21, 147)\t0.204713341468\n",
      "  (21, 1167)\t0.220460521581\n",
      "  (21, 312)\t0.0343594581791\n",
      "  (21, 2156)\t0.110230260791\n",
      "  (21, 1102)\t0.0288631500895\n"
     ]
    }
   ],
   "source": [
    "# Get the tfidf matrix for these documents,\n",
    "# in sparse matrix form\n",
    "tfidf = TfidfVectorizer().fit_transform(article_text)\n",
    "\n",
    "print tfidf"
   ]
  },
  {
   "cell_type": "code",
   "execution_count": 17,
   "metadata": {
    "collapsed": false
   },
   "outputs": [
    {
     "data": {
      "text/plain": [
       "<matplotlib.axes._subplots.AxesSubplot at 0xbcd4cc0>"
      ]
     },
     "execution_count": 17,
     "metadata": {},
     "output_type": "execute_result"
    },
    {
     "data": {
      "image/png": "[encoded data removed]",
      "text/plain": [
       "<matplotlib.figure.Figure at 0xbcd4630>"
      ]
     },
     "metadata": {},
     "output_type": "display_data"
    }
   ],
   "source": [
    "sns.heatmap((tfidf * tfidf.T).todense())"
   ]
  },
  {
   "cell_type": "code",
   "execution_count": null,
   "metadata": {
    "collapsed": true
   },
   "outputs": [],
   "source": []
  }
 ],
 "metadata": {
  "kernelspec": {
   "display_name": "Python 2",
   "language": "python",
   "name": "python2"
  },
  "language_info": {
   "codemirror_mode": {
    "name": "ipython",
    "version": 2
   },
   "file_extension": ".py",
   "mimetype": "text/x-python",
   "name": "python",
   "nbconvert_exporter": "python",
   "pygments_lexer": "ipython2",
   "version": "2.7.11"
  }
 },
 "nbformat": 4,
 "nbformat_minor": 0
}
